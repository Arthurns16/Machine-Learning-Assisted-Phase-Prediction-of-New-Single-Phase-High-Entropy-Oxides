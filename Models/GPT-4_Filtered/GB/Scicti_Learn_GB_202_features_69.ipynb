{
  "nbformat": 4,
  "nbformat_minor": 0,
  "metadata": {
    "colab": {
      "provenance": []
    },
    "kernelspec": {
      "name": "python3",
      "display_name": "Python 3"
    },
    "language_info": {
      "name": "python"
    }
  },
  "cells": [
    {
      "cell_type": "code",
      "source": [
        "import pandas as pd\n",
        "from sklearn.model_selection import train_test_split\n",
        "from sklearn.preprocessing import StandardScaler\n",
        "from sklearn.neural_network import MLPClassifier\n",
        "from sklearn.model_selection import KFold,ShuffleSplit\n",
        "from sklearn.metrics import confusion_matrix, accuracy_score\n",
        "from sklearn.metrics import classification_report\n",
        "from sklearn.ensemble import RandomForestClassifier\n",
        "from sklearn.model_selection import GridSearchCV\n",
        "from sklearn.model_selection import cross_val_score\n",
        "from sklearn.linear_model import LogisticRegression\n",
        "from sklearn import svm\n",
        "from sklearn import metrics\n",
        "from sklearn.metrics import precision_score\n",
        "import statistics\n",
        "import seaborn as sns\n",
        "import matplotlib.pyplot as plt\n",
        "import numpy as np\n",
        "\n",
        "# Carrega os dados do arquivo Excel e filtra para deixar apenas as 243 features\n",
        "dataset = pd.read_excel('Input_Total.xlsx')\n",
        "dataset = dataset.loc[:,dataset.apply(pd.Series.nunique) != 1]\n",
        "dataset = dataset.filter(regex=r'^(?!.*Keq)')\n",
        "dataset = dataset.drop('Classe', axis=1)\n",
        "dataset = dataset.drop('Átomos', axis=1)\n",
        "print(dataset.columns)\n",
        "\n",
        "\n",
        "\n"
      ],
      "metadata": {
        "id": "-XUBkfEWxpZW"
      },
      "execution_count": null,
      "outputs": []
    },
    {
      "cell_type": "code",
      "source": [
        "\n",
        "X = dataset\n",
        "dataset2 = pd.read_excel('Input_Total.xlsx')\n",
        "y = dataset2['Classe']\n",
        "print(y)"
      ],
      "metadata": {
        "id": "Mu1adolP3Yg2",
        "colab": {
          "base_uri": "https://localhost:8080/"
        },
        "outputId": "830616bc-1be0-4026-8e4b-0111b1b3e37d"
      },
      "execution_count": null,
      "outputs": [
        {
          "output_type": "stream",
          "name": "stdout",
          "text": [
            "0      multiphase\n",
            "1      multiphase\n",
            "2      multiphase\n",
            "3      multiphase\n",
            "4      multiphase\n",
            "          ...    \n",
            "123      fluorite\n",
            "124      fluorite\n",
            "125      fluorite\n",
            "126      fluorite\n",
            "127    perovskite\n",
            "Name: Classe, Length: 128, dtype: object\n"
          ]
        }
      ]
    },
    {
      "cell_type": "code",
      "source": [
        "print(X)\n",
        "print(y)"
      ],
      "metadata": {
        "id": "YyYHN7kNI7WS"
      },
      "execution_count": null,
      "outputs": []
    },
    {
      "cell_type": "code",
      "source": [
        "# Divide o conjunto de dados em X e y\n",
        "\n",
        "\n",
        "scaler = StandardScaler()\n",
        "scaler.fit(X)\n",
        "X= scaler.transform(X)\n",
        "\n",
        "#Divide os dados em conjunto de treinamento e teste\n",
        "X_train, X_test, y_train, y_test = train_test_split(X, y, test_size=0.30, random_state=42)\n",
        "\n",
        "\n",
        "\n"
      ],
      "metadata": {
        "id": "9-xmaY9RO-uI"
      },
      "execution_count": null,
      "outputs": []
    },
    {
      "cell_type": "code",
      "source": [
        "#X_train.reset_index(drop=True, inplace=True)\n",
        "\n",
        "y_test = np.array(y_test)\n",
        "y_train = np.array(y_train)\n",
        "\n",
        "print(y_test)\n",
        "print(y_train)\n"
      ],
      "metadata": {
        "colab": {
          "base_uri": "https://localhost:8080/"
        },
        "id": "nAcCA-Us7juu",
        "outputId": "f2aee6ef-5c03-49d6-b8b7-071b0b3b9d6b"
      },
      "execution_count": null,
      "outputs": [
        {
          "output_type": "stream",
          "name": "stdout",
          "text": [
            "['fluorite' 'fluorite' 'fluorite' 'spinel' 'spinel' 'fluorite' 'rocksalt'\n",
            " 'perovskite' 'fluorite' 'pyrochlore' 'fluorite' 'pyrochlore' 'fluorite'\n",
            " 'multiphase' 'spinel' 'rocksalt' 'fluorite' 'spinel' 'fluorite'\n",
            " 'fluorite' 'fluorite' 'pyrochlore' 'multiphase' 'pyrochlore' 'perovskite'\n",
            " 'spinel' 'spinel' 'spinel' 'fluorite' 'multiphase' 'spinel' 'spinel'\n",
            " 'fluorite' 'perovskite' 'spinel' 'rocksalt' 'perovskite' 'spinel'\n",
            " 'spinel']\n",
            "['fluorite' 'fluorite' 'spinel' 'spinel' 'spinel' 'spinel' 'multiphase'\n",
            " 'monoclinic' 'fluorite' 'spinel' 'pyrochlore' 'multiphase' 'spinel'\n",
            " 'spinel' 'monoclinic' 'multiphase' 'multiphase' 'multiphase' 'fluorite'\n",
            " 'fluorite' 'spinel' 'fluorite' 'spinel' 'multiphase' 'fluorite'\n",
            " 'perovskite' 'monoclinic' 'fluorite' 'spinel' 'monoclinic' 'monoclinic'\n",
            " 'monoclinic' 'spinel' 'fluorite' 'multiphase' 'fluorite' 'fluorite'\n",
            " 'perovskite' 'multiphase' 'multiphase' 'spinel' 'ortho perovskite'\n",
            " 'multiphase' 'multiphase' 'multiphase' 'multiphase' 'spinel' 'fluorite'\n",
            " 'fluorite' 'fluorite' 'spinel' 'perovskite' 'fluorite' 'fluorite'\n",
            " 'rocksalt' 'spinel' 'spinel' 'ortho perovskite' 'fluorite' 'perovskite'\n",
            " 'spinel' 'multiphase' 'spinel' 'fluorite' 'pyrochlore' 'monoclinic'\n",
            " 'spinel' 'spinel' 'multiphase' 'spinel' 'fluorite' 'multiphase'\n",
            " 'fluorite' 'perovskite' 'spinel' 'spinel' 'multiphase' 'fluorite'\n",
            " 'multiphase' 'fluorite' 'perovskite' 'fluorite' 'fluorite' 'perovskite'\n",
            " 'perovskite' 'spinel' 'fluorite' 'spinel' 'perovskite']\n"
          ]
        }
      ]
    },
    {
      "cell_type": "code",
      "source": [
        "import pickle\n",
        "#Remember the time GB\n",
        "\n",
        "if 1<2 :\n",
        "  with open('X_trainGB.pickle', 'wb') as f:\n",
        "    pickle.dump(X_train, f)\n",
        "\n",
        "  with open('X_testGB.pickle', 'wb') as f:\n",
        "    pickle.dump(X_test, f)\n",
        "\n",
        "  with open('y_trainGB.pickle', 'wb') as f:\n",
        "    pickle.dump(y_train, f)\n",
        "\n",
        "  with open('y_testGB.pickle', 'wb') as f:\n",
        "    pickle.dump(y_test, f)\n",
        "\n",
        "  with open('X_GB.pickle', 'wb') as f:\n",
        "    pickle.dump(X, f)\n",
        "\n",
        "  with open('y_GB.pickle', 'wb') as f:\n",
        "    pickle.dump(y, f)\n",
        "\n",
        "  with open('scalerGB.pickle', 'wb') as f:\n",
        "    pickle.dump(scaler, f)\n"
      ],
      "metadata": {
        "id": "ZbEvMc-O9o4-"
      },
      "execution_count": null,
      "outputs": []
    },
    {
      "cell_type": "code",
      "source": [
        "#Implementar gradient Booting\n",
        "from sklearn.datasets import make_classification\n",
        "from sklearn.model_selection import train_test_split\n",
        "from sklearn.ensemble import GradientBoostingClassifier\n",
        "from sklearn.metrics import accuracy_score\n",
        "\n",
        "param_grid = {\n",
        "\n",
        "        'loss' : ['log_loss'],\n",
        "        'criterion' : ['friedman_mse', 'squared_error'],\n",
        "        'max_features' : ['sqrt', 'log2'],\n",
        "        'max_leaf_nodes' : [7, 9,12,14],\n",
        "        'n_estimators' : [50,100,200,500],\n",
        "        'max_depth' : [3,5,7]\n",
        "\n",
        "  }\n",
        "\n",
        "modelGB = GradientBoostingClassifier()\n",
        "grid_search = GridSearchCV(estimator = modelGB, param_grid = param_grid,\n",
        "                            cv = 2, n_jobs = -1, verbose = 2)\n",
        "\n",
        "\n",
        "\n",
        "grid_search.fit(X_train, y_train)\n",
        "print(grid_search.best_params_)\n",
        "\n",
        "#{'criterion': 'friedman_mse', 'loss': 'log_loss', 'max_depth': 7,\n",
        "#'max_features': 'sqrt', 'max_leaf_nodes': 7, 'n_estimators': 100}"
      ],
      "metadata": {
        "id": "Pl1Rjx0fpwF5",
        "colab": {
          "base_uri": "https://localhost:8080/"
        },
        "outputId": "b5bc7330-3e44-4676-b776-8c9cbbf8c633"
      },
      "execution_count": null,
      "outputs": [
        {
          "output_type": "stream",
          "name": "stdout",
          "text": [
            "Fitting 2 folds for each of 192 candidates, totalling 384 fits\n"
          ]
        },
        {
          "output_type": "stream",
          "name": "stderr",
          "text": [
            "/usr/local/lib/python3.10/dist-packages/sklearn/model_selection/_split.py:700: UserWarning: The least populated class in y has only 1 members, which is less than n_splits=2.\n",
            "  warnings.warn(\n"
          ]
        },
        {
          "output_type": "stream",
          "name": "stdout",
          "text": [
            "{'criterion': 'friedman_mse', 'loss': 'log_loss', 'max_depth': 3, 'max_features': 'sqrt', 'max_leaf_nodes': 12, 'n_estimators': 50}\n"
          ]
        }
      ]
    },
    {
      "cell_type": "code",
      "source": [
        "from sklearn.ensemble import GradientBoostingClassifier\n",
        "modelGB = GradientBoostingClassifier(\n",
        "    criterion='friedman_mse', loss= 'log_loss', max_depth= 3,\n",
        "    max_features= 'sqrt', max_leaf_nodes= 12, n_estimators= 50\n",
        "\n",
        ")\n",
        "\n",
        "\n",
        "\n",
        "modelGB.fit(X_train, y_train)\n",
        "\n",
        "\n",
        "\n",
        "\n"
      ],
      "metadata": {
        "id": "q0-_U2vPVZCA"
      },
      "execution_count": null,
      "outputs": []
    },
    {
      "cell_type": "code",
      "source": [
        "y_pred = modelGB.predict(X_test)\n",
        "accuracy = accuracy_score(y_test, y_pred)\n",
        "print(confusion_matrix(y_test, y_pred))\n",
        "print(accuracy)\n"
      ],
      "metadata": {
        "colab": {
          "base_uri": "https://localhost:8080/"
        },
        "id": "9YFjSMMBdoqa",
        "outputId": "727f75ec-0825-404a-aacb-39d5d81c5e35"
      },
      "execution_count": null,
      "outputs": [
        {
          "output_type": "stream",
          "name": "stdout",
          "text": [
            "[[12  1  0  0  0  0  0]\n",
            " [ 1  0  0  0  0  0  2]\n",
            " [ 0  0  0  0  0  0  0]\n",
            " [ 0  1  1  1  0  0  1]\n",
            " [ 1  1  0  0  2  0  0]\n",
            " [ 0  1  0  0  0  1  1]\n",
            " [ 0  1  0  0  0  0 11]]\n",
            "0.6923076923076923\n"
          ]
        }
      ]
    },
    {
      "cell_type": "code",
      "source": [
        "import pickle\n",
        "from sklearn.neural_network import MLPClassifier\n",
        "from sklearn.model_selection import KFold,ShuffleSplit\n",
        "from sklearn.metrics import confusion_matrix, accuracy_score\n",
        "from sklearn.metrics import classification_report\n",
        "from sklearn.model_selection import cross_validate\n",
        "from sklearn.model_selection import cross_val_score\n",
        "\n",
        "# Lista de nomes de arquivos para carregar\n",
        "files_to_load = [\n",
        "    'X_trainGB.pickle',\n",
        "    'X_testGB.pickle',\n",
        "    'y_trainGB.pickle',\n",
        "    'y_testGB.pickle',\n",
        "    'X_GB.pickle',\n",
        "    'y_GB.pickle',\n",
        "    'scalerGB.pickle',\n",
        "    'modeloGB.pkl'\n",
        "]\n",
        "\n",
        "# Dicionário para armazenar os dados carregados, chave é o nome da variável\n",
        "loaded_data = {}\n",
        "\n",
        "# Loop para carregar cada arquivo em uma variável correspondente\n",
        "for filename in files_to_load:\n",
        "    with open(filename, 'rb') as f: # 'rb' para ler no modo binário\n",
        "        loaded_data[filename.replace('.pickle', '')] = pickle.load(f)\n",
        "\n",
        "# Acesso aos dados carregados, por exemplo:\n",
        "X_train = loaded_data['X_trainGB']\n",
        "X_test = loaded_data['X_testGB']\n",
        "y_train = loaded_data['y_trainGB']\n",
        "y_test = loaded_data['y_testGB']\n",
        "X = loaded_data['X_GB']\n",
        "y = loaded_data['y_GB']\n",
        "scaler = loaded_data['scalerGB']\n",
        "model = loaded_data['modeloGB.pkl']\n",
        "\n",
        "# Agora as variáveis X_train, X_test, y_train, y_test, X, y, scaler contêm os dados carregados\n",
        "\n",
        "\n",
        "x = accuracy_score(y_test, model.predict(X_test), sample_weight=None)\n",
        "print(float(x))"
      ],
      "metadata": {
        "colab": {
          "base_uri": "https://localhost:8080/"
        },
        "id": "nTssAmQ_b4Pl",
        "outputId": "47c31526-03a5-4d89-de18-fd093ec1763b"
      },
      "execution_count": 2,
      "outputs": [
        {
          "output_type": "stream",
          "name": "stdout",
          "text": [
            "0.6923076923076923\n"
          ]
        }
      ]
    },
    {
      "cell_type": "code",
      "source": [
        "from sklearn.metrics import confusion_matrix\n",
        "import seaborn as sns\n",
        "import matplotlib.pyplot as plt\n",
        "\n",
        "# Supondo que 'model' é o seu modelo treinado e 'X_test', 'y_test' são seus dados de teste\n",
        "# Primeiro, você precisa fazer previsões usando o seu conjunto de teste\n",
        "y_pred = model.predict(X_test)\n",
        "\n",
        "# Gere a matriz de confusão\n",
        "conf_matrix = confusion_matrix(y_test, y_pred)\n",
        "\n",
        "# Para melhor visualização, você pode usar o Seaborn para plotar a matriz de confusão\n",
        "sns.heatmap(conf_matrix, annot=True, fmt=\"d\", cmap=\"Blues\")\n",
        "plt.ylabel('True Label')\n",
        "plt.xlabel('Predicted Label')\n",
        "plt.title('Confusion Matrix')\n",
        "plt.show()"
      ],
      "metadata": {
        "colab": {
          "base_uri": "https://localhost:8080/",
          "height": 472
        },
        "id": "LTJVPYSFb5U9",
        "outputId": "cf9602b4-fdff-487e-d510-dabff8de6593"
      },
      "execution_count": 3,
      "outputs": [
        {
          "output_type": "display_data",
          "data": {
            "text/plain": [
              "<Figure size 640x480 with 2 Axes>"
            ],
            "image/png": "[encoded data removed]"
          },
          "metadata": {}
        }
      ]
    },
    {
      "cell_type": "code",
      "source": [
        "import random\n",
        "import numpy as np\n",
        "import plotly.express as px\n",
        "import matplotlib.pyplot as plt\n",
        "\n",
        "\n",
        "def new_boot(X_test, y_test):\n",
        "\n",
        "  novo_X = X_test.copy()\n",
        "  novo_Y = y_test.copy()\n",
        "\n",
        "  c= 0\n",
        "  while c < len(X_test):\n",
        "    rand = random.randint(0,len(X_test)-1)\n",
        "\n",
        "\n",
        "\n",
        "    novo_X[c] = X_test[rand].copy()\n",
        "    novo_Y[c] = y_test[rand]\n",
        "\n",
        "    c= c+1\n",
        "\n",
        "\n",
        "  return novo_X , novo_Y\n",
        "\n",
        "# Pega a acurácia de um boot\n",
        "# Ajuste em pegar a mérica sem ser pelo report\n",
        "def pegar_acuracia_do_relatorio(novo_X , novo_Y):\n",
        "\n",
        "  return accuracy_score(novo_Y, modelGB.predict(novo_X), sample_weight=None)\n",
        "\n",
        "\n",
        "# calcula a distribuição dos boots\n",
        "\n",
        "numero_boots = 10001\n",
        "lista_boots = []\n",
        "contador = 0\n",
        "\n",
        "while contador < numero_boots:\n",
        "  x, y = new_boot(X_test, y_test)\n",
        "  lista_boots.append(pegar_acuracia_do_relatorio(x, y))\n",
        "  contador =contador +1\n",
        "\n",
        "plt.hist(lista_boots)\n",
        "plt.xlabel('Acurácia')\n",
        "plt.ylabel('Número de boots')\n",
        "plt.show()\n",
        "\n",
        "#converte a lista em float explicitamente para a função percentile ser aplicada\n",
        "array = list()\n",
        "for elemento in lista_boots:\n",
        "  array.append(float(elemento))\n",
        "\n",
        "# calcula os limites da integral da gaussiana que correspondem a área desejada\n",
        "\n",
        "alpha = 0.95\n",
        "p = ((1.0-alpha)/2.0) * 100\n",
        "lower =  np.percentile(array, p)\n",
        "p = (alpha+((1.0-alpha)/2.0)) * 100\n",
        "upper =  np.percentile(array, p)\n",
        "\n",
        "print(\"Intervalo de confiança : [\"+str(lower)+\",\"+str(upper)+\"]\")\n",
        "print(\"Acurácia 'real' do modelo performada no teste : \"+ str(accuracy_score(y_test, modelGB.predict(X_test), sample_weight=None)))"
      ],
      "metadata": {
        "id": "qX_xyImyVodg",
        "colab": {
          "base_uri": "https://localhost:8080/",
          "height": 484
        },
        "outputId": "e4f3a53f-ed91-4535-dab9-6921b674d2ee"
      },
      "execution_count": null,
      "outputs": [
        {
          "output_type": "display_data",
          "data": {
            "text/plain": [
              "<Figure size 640x480 with 1 Axes>"
            ],
            "image/png": "[encoded data removed]"
          },
          "metadata": {}
        },
        {
          "output_type": "stream",
          "name": "stdout",
          "text": [
            "Intervalo de confiança : [0.5384615384615384,0.8205128205128205]\n",
            "Acurácia 'real' do modelo performada no teste : 0.6923076923076923\n"
          ]
        }
      ]
    },
    {
      "cell_type": "code",
      "source": [
        "#################################################\n",
        "#Salvar modelo treinado\n",
        "import pickle\n",
        "\n",
        "\n",
        "\n",
        "with open('modeloGB.pkl', 'wb') as file:\n",
        "    pickle.dump(modelGB, file)\n",
        "\n",
        "\n",
        "\n",
        "# print(accuracy_score(y_test, model.predict(X_test), sample_weight=None))"
      ],
      "metadata": {
        "id": "72_dwCBaD0x9"
      },
      "execution_count": null,
      "outputs": []
    }
  ]
}